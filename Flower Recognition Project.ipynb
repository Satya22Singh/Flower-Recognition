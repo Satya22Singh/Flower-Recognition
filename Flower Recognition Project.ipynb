{
 "cells": [
  {
   "cell_type": "code",
   "execution_count": 1,
   "id": "6931405f-88b7-49a1-99f6-0794ea689841",
   "metadata": {},
   "outputs": [],
   "source": [
    "import tensorflow as tf\n",
    "from tensorflow.keras.preprocessing.image import ImageDataGenerator\n",
    "import numpy as np\n"
   ]
  },
  {
   "cell_type": "markdown",
   "id": "7351768c-ba40-4e24-ae06-52cc9040db8b",
   "metadata": {},
   "source": [
    "### Data Preprocessing"
   ]
  },
  {
   "cell_type": "markdown",
   "id": "97378d4d-308c-4901-88d7-a0c0d052be20",
   "metadata": {},
   "source": [
    "#### Train Image Processing"
   ]
  },
  {
   "cell_type": "code",
   "execution_count": 2,
   "id": "7b35b6d4-29e2-4e49-8149-d4f4eed3eb15",
   "metadata": {
    "scrolled": true
   },
   "outputs": [
    {
     "name": "stdout",
     "output_type": "stream",
     "text": [
      "Found 4317 images belonging to 5 classes.\n"
     ]
    }
   ],
   "source": [
    "train_data=ImageDataGenerator(\n",
    "    rescale=1./255,\n",
    "    shear_range=0.2,\n",
    "    zoom_range=0.2,\n",
    "    horizontal_flip=True)\n",
    "training_set=train_data.flow_from_directory(\n",
    "    'training_set',target_size=(64,64),batch_size=32,class_mode='categorical')\n"
   ]
  },
  {
   "cell_type": "markdown",
   "id": "ed2520fd-9ce0-4fc8-b751-7ff68634d9c4",
   "metadata": {},
   "source": [
    "#### Test Image Processing"
   ]
  },
  {
   "cell_type": "code",
   "execution_count": 3,
   "id": "c60987de-08b3-4637-855f-602d744eafd3",
   "metadata": {},
   "outputs": [
    {
     "name": "stdout",
     "output_type": "stream",
     "text": [
      "Found 944 images belonging to 5 classes.\n"
     ]
    }
   ],
   "source": [
    "test_data=ImageDataGenerator(rescale=1./255)\n",
    "test_set=test_data.flow_from_directory(\n",
    "    'test_set',target_size=(64,64),batch_size=32,class_mode='categorical')\n"
   ]
  },
  {
   "cell_type": "markdown",
   "id": "300739e7-b2d1-4bad-97b0-51547691ea6c",
   "metadata": {},
   "source": [
    "#### Building model "
   ]
  },
  {
   "cell_type": "code",
   "execution_count": 4,
   "id": "198c925c-e038-42aa-81cd-63a7349a4084",
   "metadata": {},
   "outputs": [],
   "source": [
    "cnn=tf.keras.models.Sequential()  # it will give structure of model"
   ]
  },
  {
   "cell_type": "code",
   "execution_count": 5,
   "id": "5a943362-4413-4045-be68-a01c31bf6c43",
   "metadata": {},
   "outputs": [
    {
     "name": "stderr",
     "output_type": "stream",
     "text": [
      "C:\\Python310\\lib\\site-packages\\keras\\src\\layers\\convolutional\\base_conv.py:99: UserWarning: Do not pass an `input_shape`/`input_dim` argument to a layer. When using Sequential models, prefer using an `Input(shape)` object as the first layer in the model instead.\n",
      "  super().__init__(\n"
     ]
    }
   ],
   "source": [
    "# Building Convolution layer\n",
    "from keras.models import Sequential\n",
    "from keras.layers import Input, Conv2D, MaxPool2D,Flatten, Dense, Dropout\n",
    "from tensorflow.keras.optimizers import Adam \n",
    "\n",
    "cnn=Sequential()\n",
    "\n",
    "# Create a convolutional layer and pass the output of the Input shape to it\n",
    "cnn.add(Conv2D(filters=64, kernel_size=(3, 3), activation='relu',input_shape=(64,64,3)))\n",
    "cnn.add(MaxPool2D(pool_size=2,strides=2))\n",
    "\n",
    "cnn.add(Conv2D(64, kernel_size=(3, 3), activation='relu'))\n",
    "cnn.add(MaxPool2D(pool_size=2,strides=2))"
   ]
  },
  {
   "cell_type": "code",
   "execution_count": 6,
   "id": "9010ddeb-0d63-4fee-8009-9574a50b67cd",
   "metadata": {},
   "outputs": [],
   "source": [
    "## it will improve the accuracy of the model\n",
    "cnn.add(Dropout(0.5))"
   ]
  },
  {
   "cell_type": "code",
   "execution_count": 7,
   "id": "dc22431d-bc37-457f-9d61-2e88df8231b0",
   "metadata": {},
   "outputs": [],
   "source": [
    "cnn.add(Flatten())"
   ]
  },
  {
   "cell_type": "code",
   "execution_count": 8,
   "id": "a80c3c16-4522-4754-b2cc-0228b025e09b",
   "metadata": {},
   "outputs": [],
   "source": [
    "## It is Hidden Layer\n",
    "cnn.add(Dense(units=128,activation='relu'))"
   ]
  },
  {
   "cell_type": "code",
   "execution_count": 9,
   "id": "aa64ae2f-a45d-41b7-81e9-37801d057dc4",
   "metadata": {},
   "outputs": [],
   "source": [
    "## It is a Output Layer\n",
    "cnn.add(Dense(units=5,activation='softmax'))"
   ]
  },
  {
   "cell_type": "code",
   "execution_count": 10,
   "id": "c497ded5-c66d-482f-9627-b10d47596609",
   "metadata": {},
   "outputs": [],
   "source": [
    "cnn.compile(optimizer='rmsprop',loss='categorical_crossentropy',metrics=['accuracy'])"
   ]
  },
  {
   "cell_type": "code",
   "execution_count": 11,
   "id": "557bb5fe-24e8-4c09-9f7e-9f68695d15d3",
   "metadata": {
    "scrolled": true
   },
   "outputs": [
    {
     "name": "stdout",
     "output_type": "stream",
     "text": [
      "Epoch 1/30\n"
     ]
    },
    {
     "name": "stderr",
     "output_type": "stream",
     "text": [
      "C:\\Python310\\lib\\site-packages\\keras\\src\\trainers\\data_adapters\\py_dataset_adapter.py:120: UserWarning: Your `PyDataset` class should call `super().__init__(**kwargs)` in its constructor. `**kwargs` can include `workers`, `use_multiprocessing`, `max_queue_size`. Do not pass these arguments to `fit()`, as they will be ignored.\n",
      "  self._warn_if_super_not_called()\n"
     ]
    },
    {
     "name": "stdout",
     "output_type": "stream",
     "text": [
      "\u001b[1m135/135\u001b[0m \u001b[32m━━━━━━━━━━━━━━━━━━━━\u001b[0m\u001b[37m\u001b[0m \u001b[1m57s\u001b[0m 392ms/step - accuracy: 0.3656 - loss: 1.4708 - val_accuracy: 0.6292 - val_loss: 1.0320\n",
      "Epoch 2/30\n",
      "\u001b[1m135/135\u001b[0m \u001b[32m━━━━━━━━━━━━━━━━━━━━\u001b[0m\u001b[37m\u001b[0m \u001b[1m52s\u001b[0m 370ms/step - accuracy: 0.5755 - loss: 1.0837 - val_accuracy: 0.6674 - val_loss: 0.8716\n",
      "Epoch 3/30\n",
      "\u001b[1m135/135\u001b[0m \u001b[32m━━━━━━━━━━━━━━━━━━━━\u001b[0m\u001b[37m\u001b[0m \u001b[1m49s\u001b[0m 353ms/step - accuracy: 0.6198 - loss: 0.9852 - val_accuracy: 0.6398 - val_loss: 0.8921\n",
      "Epoch 4/30\n",
      "\u001b[1m135/135\u001b[0m \u001b[32m━━━━━━━━━━━━━━━━━━━━\u001b[0m\u001b[37m\u001b[0m \u001b[1m51s\u001b[0m 363ms/step - accuracy: 0.6420 - loss: 0.9314 - val_accuracy: 0.6801 - val_loss: 0.7891\n",
      "Epoch 5/30\n",
      "\u001b[1m135/135\u001b[0m \u001b[32m━━━━━━━━━━━━━━━━━━━━\u001b[0m\u001b[37m\u001b[0m \u001b[1m51s\u001b[0m 365ms/step - accuracy: 0.6577 - loss: 0.8507 - val_accuracy: 0.7278 - val_loss: 0.7037\n",
      "Epoch 6/30\n",
      "\u001b[1m135/135\u001b[0m \u001b[32m━━━━━━━━━━━━━━━━━━━━\u001b[0m\u001b[37m\u001b[0m \u001b[1m50s\u001b[0m 360ms/step - accuracy: 0.6945 - loss: 0.7937 - val_accuracy: 0.7225 - val_loss: 0.6947\n",
      "Epoch 7/30\n",
      "\u001b[1m135/135\u001b[0m \u001b[32m━━━━━━━━━━━━━━━━━━━━\u001b[0m\u001b[37m\u001b[0m \u001b[1m52s\u001b[0m 374ms/step - accuracy: 0.7002 - loss: 0.7754 - val_accuracy: 0.7489 - val_loss: 0.6594\n",
      "Epoch 8/30\n",
      "\u001b[1m135/135\u001b[0m \u001b[32m━━━━━━━━━━━━━━━━━━━━\u001b[0m\u001b[37m\u001b[0m \u001b[1m53s\u001b[0m 379ms/step - accuracy: 0.7074 - loss: 0.7511 - val_accuracy: 0.6451 - val_loss: 0.9222\n",
      "Epoch 9/30\n",
      "\u001b[1m135/135\u001b[0m \u001b[32m━━━━━━━━━━━━━━━━━━━━\u001b[0m\u001b[37m\u001b[0m \u001b[1m53s\u001b[0m 376ms/step - accuracy: 0.7260 - loss: 0.7033 - val_accuracy: 0.7659 - val_loss: 0.6484\n",
      "Epoch 10/30\n",
      "\u001b[1m135/135\u001b[0m \u001b[32m━━━━━━━━━━━━━━━━━━━━\u001b[0m\u001b[37m\u001b[0m \u001b[1m52s\u001b[0m 373ms/step - accuracy: 0.7302 - loss: 0.6948 - val_accuracy: 0.7574 - val_loss: 0.6284\n",
      "Epoch 11/30\n",
      "\u001b[1m135/135\u001b[0m \u001b[32m━━━━━━━━━━━━━━━━━━━━\u001b[0m\u001b[37m\u001b[0m \u001b[1m53s\u001b[0m 382ms/step - accuracy: 0.7634 - loss: 0.6435 - val_accuracy: 0.8030 - val_loss: 0.5332\n",
      "Epoch 12/30\n",
      "\u001b[1m135/135\u001b[0m \u001b[32m━━━━━━━━━━━━━━━━━━━━\u001b[0m\u001b[37m\u001b[0m \u001b[1m53s\u001b[0m 378ms/step - accuracy: 0.7525 - loss: 0.6406 - val_accuracy: 0.8347 - val_loss: 0.4415\n",
      "Epoch 13/30\n",
      "\u001b[1m135/135\u001b[0m \u001b[32m━━━━━━━━━━━━━━━━━━━━\u001b[0m\u001b[37m\u001b[0m \u001b[1m53s\u001b[0m 378ms/step - accuracy: 0.7780 - loss: 0.5964 - val_accuracy: 0.8231 - val_loss: 0.4724\n",
      "Epoch 14/30\n",
      "\u001b[1m135/135\u001b[0m \u001b[32m━━━━━━━━━━━━━━━━━━━━\u001b[0m\u001b[37m\u001b[0m \u001b[1m44s\u001b[0m 316ms/step - accuracy: 0.7758 - loss: 0.5748 - val_accuracy: 0.8157 - val_loss: 0.5003\n",
      "Epoch 15/30\n",
      "\u001b[1m135/135\u001b[0m \u001b[32m━━━━━━━━━━━━━━━━━━━━\u001b[0m\u001b[37m\u001b[0m \u001b[1m22s\u001b[0m 161ms/step - accuracy: 0.7776 - loss: 0.5868 - val_accuracy: 0.8559 - val_loss: 0.3818\n",
      "Epoch 16/30\n",
      "\u001b[1m135/135\u001b[0m \u001b[32m━━━━━━━━━━━━━━━━━━━━\u001b[0m\u001b[37m\u001b[0m \u001b[1m20s\u001b[0m 146ms/step - accuracy: 0.8028 - loss: 0.5289 - val_accuracy: 0.8061 - val_loss: 0.5192\n",
      "Epoch 17/30\n",
      "\u001b[1m135/135\u001b[0m \u001b[32m━━━━━━━━━━━━━━━━━━━━\u001b[0m\u001b[37m\u001b[0m \u001b[1m20s\u001b[0m 145ms/step - accuracy: 0.7911 - loss: 0.5353 - val_accuracy: 0.8708 - val_loss: 0.3467\n",
      "Epoch 18/30\n",
      "\u001b[1m135/135\u001b[0m \u001b[32m━━━━━━━━━━━━━━━━━━━━\u001b[0m\u001b[37m\u001b[0m \u001b[1m22s\u001b[0m 162ms/step - accuracy: 0.8158 - loss: 0.4935 - val_accuracy: 0.8528 - val_loss: 0.3880\n",
      "Epoch 19/30\n",
      "\u001b[1m135/135\u001b[0m \u001b[32m━━━━━━━━━━━━━━━━━━━━\u001b[0m\u001b[37m\u001b[0m \u001b[1m50s\u001b[0m 358ms/step - accuracy: 0.8144 - loss: 0.4890 - val_accuracy: 0.9110 - val_loss: 0.2775\n",
      "Epoch 20/30\n",
      "\u001b[1m135/135\u001b[0m \u001b[32m━━━━━━━━━━━━━━━━━━━━\u001b[0m\u001b[37m\u001b[0m \u001b[1m50s\u001b[0m 360ms/step - accuracy: 0.8335 - loss: 0.4738 - val_accuracy: 0.8792 - val_loss: 0.3322\n",
      "Epoch 21/30\n",
      "\u001b[1m135/135\u001b[0m \u001b[32m━━━━━━━━━━━━━━━━━━━━\u001b[0m\u001b[37m\u001b[0m \u001b[1m53s\u001b[0m 380ms/step - accuracy: 0.8223 - loss: 0.4900 - val_accuracy: 0.8994 - val_loss: 0.3067\n",
      "Epoch 22/30\n",
      "\u001b[1m135/135\u001b[0m \u001b[32m━━━━━━━━━━━━━━━━━━━━\u001b[0m\u001b[37m\u001b[0m \u001b[1m53s\u001b[0m 381ms/step - accuracy: 0.8492 - loss: 0.4232 - val_accuracy: 0.8379 - val_loss: 0.4184\n",
      "Epoch 23/30\n",
      "\u001b[1m135/135\u001b[0m \u001b[32m━━━━━━━━━━━━━━━━━━━━\u001b[0m\u001b[37m\u001b[0m \u001b[1m53s\u001b[0m 382ms/step - accuracy: 0.8510 - loss: 0.4064 - val_accuracy: 0.9269 - val_loss: 0.2220\n",
      "Epoch 24/30\n",
      "\u001b[1m135/135\u001b[0m \u001b[32m━━━━━━━━━━━━━━━━━━━━\u001b[0m\u001b[37m\u001b[0m \u001b[1m53s\u001b[0m 381ms/step - accuracy: 0.8331 - loss: 0.4337 - val_accuracy: 0.9280 - val_loss: 0.2386\n",
      "Epoch 25/30\n",
      "\u001b[1m135/135\u001b[0m \u001b[32m━━━━━━━━━━━━━━━━━━━━\u001b[0m\u001b[37m\u001b[0m \u001b[1m53s\u001b[0m 382ms/step - accuracy: 0.8589 - loss: 0.3984 - val_accuracy: 0.9237 - val_loss: 0.2318\n",
      "Epoch 26/30\n",
      "\u001b[1m135/135\u001b[0m \u001b[32m━━━━━━━━━━━━━━━━━━━━\u001b[0m\u001b[37m\u001b[0m \u001b[1m53s\u001b[0m 383ms/step - accuracy: 0.8534 - loss: 0.4011 - val_accuracy: 0.8570 - val_loss: 0.3571\n",
      "Epoch 27/30\n",
      "\u001b[1m135/135\u001b[0m \u001b[32m━━━━━━━━━━━━━━━━━━━━\u001b[0m\u001b[37m\u001b[0m \u001b[1m54s\u001b[0m 384ms/step - accuracy: 0.8565 - loss: 0.3862 - val_accuracy: 0.9078 - val_loss: 0.2581\n",
      "Epoch 28/30\n",
      "\u001b[1m135/135\u001b[0m \u001b[32m━━━━━━━━━━━━━━━━━━━━\u001b[0m\u001b[37m\u001b[0m \u001b[1m53s\u001b[0m 380ms/step - accuracy: 0.8695 - loss: 0.3604 - val_accuracy: 0.9290 - val_loss: 0.2158\n",
      "Epoch 29/30\n",
      "\u001b[1m135/135\u001b[0m \u001b[32m━━━━━━━━━━━━━━━━━━━━\u001b[0m\u001b[37m\u001b[0m \u001b[1m2436s\u001b[0m 18s/step - accuracy: 0.8810 - loss: 0.3395 - val_accuracy: 0.9523 - val_loss: 0.1626\n",
      "Epoch 30/30\n",
      "\u001b[1m135/135\u001b[0m \u001b[32m━━━━━━━━━━━━━━━━━━━━\u001b[0m\u001b[37m\u001b[0m \u001b[1m20s\u001b[0m 142ms/step - accuracy: 0.8885 - loss: 0.3212 - val_accuracy: 0.9121 - val_loss: 0.2508\n"
     ]
    },
    {
     "data": {
      "text/plain": [
       "<keras.src.callbacks.history.History at 0x171ff7e6320>"
      ]
     },
     "execution_count": 11,
     "metadata": {},
     "output_type": "execute_result"
    }
   ],
   "source": [
    "cnn.fit(x=training_set, validation_data=test_set, epochs=30)\n"
   ]
  },
  {
   "cell_type": "markdown",
   "id": "e70eabc0-8e84-4231-8389-93c55d2e25e5",
   "metadata": {},
   "source": [
    "#### Test New Image"
   ]
  },
  {
   "cell_type": "code",
   "execution_count": 16,
   "id": "2ff272a5-373f-43f0-b37f-26e7bb497ddf",
   "metadata": {},
   "outputs": [
    {
     "name": "stdout",
     "output_type": "stream",
     "text": [
      "\u001b[1m1/1\u001b[0m \u001b[32m━━━━━━━━━━━━━━━━━━━━\u001b[0m\u001b[37m\u001b[0m \u001b[1m0s\u001b[0m 22ms/step\n"
     ]
    }
   ],
   "source": [
    "from keras.preprocessing import image\n",
    "test_image=image.load_img('prediction/r.jpg',target_size=(64,64))\n",
    "test_image=image.img_to_array(test_image)\n",
    "test_image=np.expand_dims(test_image,axis=0)\n",
    "result=cnn.predict(test_image)\n"
   ]
  },
  {
   "cell_type": "code",
   "execution_count": 17,
   "id": "1ab950f1-7c5a-4b26-b2c3-96e7d02eab5a",
   "metadata": {},
   "outputs": [
    {
     "data": {
      "text/plain": [
       "{'daisy': 0, 'dandelion': 1, 'rose': 2, 'sunflower': 3, 'tulip': 4}"
      ]
     },
     "execution_count": 17,
     "metadata": {},
     "output_type": "execute_result"
    }
   ],
   "source": [
    "training_set.class_indices"
   ]
  },
  {
   "cell_type": "code",
   "execution_count": 19,
   "id": "5906eb66-b492-4cec-920b-dc36c25704cc",
   "metadata": {},
   "outputs": [
    {
     "name": "stdout",
     "output_type": "stream",
     "text": [
      "[[0. 0. 1. 0. 0.]]\n"
     ]
    }
   ],
   "source": [
    "print(result)"
   ]
  },
  {
   "cell_type": "code",
   "execution_count": 20,
   "id": "9da063b2-1016-4f17-9bb0-6cb60638cc86",
   "metadata": {},
   "outputs": [
    {
     "name": "stdout",
     "output_type": "stream",
     "text": [
      "Rose\n"
     ]
    }
   ],
   "source": [
    "if result[0][0]==1:\n",
    "    print('Daisy')\n",
    "elif result[0][1]==1:\n",
    "    print('Dandelion')\n",
    "elif result[0][2]==1:\n",
    "    print('Rose')\n",
    "elif result[0][3]==1:\n",
    "    print('Sunflower')\n",
    "elif result[0][4]==1:\n",
    "    print('Tulip')"
   ]
  },
  {
   "cell_type": "code",
   "execution_count": null,
   "id": "cb1b728a-61e1-4c6c-be6e-8921d0a8dc47",
   "metadata": {},
   "outputs": [],
   "source": []
  },
  {
   "cell_type": "code",
   "execution_count": null,
   "id": "c1d49a3f-06f1-48ef-ad47-21b031d5fdba",
   "metadata": {},
   "outputs": [],
   "source": []
  },
  {
   "cell_type": "code",
   "execution_count": null,
   "id": "c4f5ca0e-5ff0-4dc1-81cd-af263686330a",
   "metadata": {},
   "outputs": [],
   "source": []
  }
 ],
 "metadata": {
  "kernelspec": {
   "display_name": "ML-KERNEL",
   "language": "python",
   "name": "ml-kernel"
  },
  "language_info": {
   "codemirror_mode": {
    "name": "ipython",
    "version": 3
   },
   "file_extension": ".py",
   "mimetype": "text/x-python",
   "name": "python",
   "nbconvert_exporter": "python",
   "pygments_lexer": "ipython3",
   "version": "3.10.5"
  }
 },
 "nbformat": 4,
 "nbformat_minor": 5
}
