{
 "cells": [
  {
   "cell_type": "code",
   "execution_count": 2,
   "id": "6931405f-88b7-49a1-99f6-0794ea689841",
   "metadata": {},
   "outputs": [],
   "source": [
    "import tensorflow as tf\n",
    "from tensorflow.keras.preprocessing.image import ImageDataGenerator\n",
    "import numpy as np"
   ]
  },
  {
   "cell_type": "markdown",
   "id": "7351768c-ba40-4e24-ae06-52cc9040db8b",
   "metadata": {},
   "source": [
    "### Data Preprocessing"
   ]
  },
  {
   "cell_type": "markdown",
   "id": "97378d4d-308c-4901-88d7-a0c0d052be20",
   "metadata": {},
   "source": [
    "#### Train Image Processing"
   ]
  },
  {
   "cell_type": "code",
   "execution_count": 3,
   "id": "7b35b6d4-29e2-4e49-8149-d4f4eed3eb15",
   "metadata": {
    "scrolled": true
   },
   "outputs": [
    {
     "name": "stdout",
     "output_type": "stream",
     "text": [
      "Found 4317 images belonging to 5 classes.\n"
     ]
    }
   ],
   "source": [
    "train_data=ImageDataGenerator(\n",
    "    rescale=1./255,\n",
    "    shear_range=0.2,\n",
    "    zoom_range=0.2,\n",
    "    horizontal_flip=True)\n",
    "training_set=train_data.flow_from_directory(\n",
    "    'training_set',target_size=(64,64),batch_size=32,class_mode='categorical')\n"
   ]
  },
  {
   "cell_type": "markdown",
   "id": "ed2520fd-9ce0-4fc8-b751-7ff68634d9c4",
   "metadata": {},
   "source": [
    "#### Test Image Processing"
   ]
  },
  {
   "cell_type": "code",
   "execution_count": 4,
   "id": "c60987de-08b3-4637-855f-602d744eafd3",
   "metadata": {},
   "outputs": [
    {
     "name": "stdout",
     "output_type": "stream",
     "text": [
      "Found 944 images belonging to 5 classes.\n"
     ]
    }
   ],
   "source": [
    "test_data=ImageDataGenerator(rescale=1./255)\n",
    "test_set=test_data.flow_from_directory(\n",
    "    'test_set',target_size=(64,64),batch_size=32,class_mode='categorical')\n"
   ]
  },
  {
   "cell_type": "markdown",
   "id": "300739e7-b2d1-4bad-97b0-51547691ea6c",
   "metadata": {},
   "source": [
    "#### Building model "
   ]
  },
  {
   "cell_type": "code",
   "execution_count": 39,
   "id": "198c925c-e038-42aa-81cd-63a7349a4084",
   "metadata": {},
   "outputs": [],
   "source": [
    "cnn=tf.keras.models.Sequential()  # it will give structure of model"
   ]
  },
  {
   "cell_type": "code",
   "execution_count": 29,
   "id": "5a943362-4413-4045-be68-a01c31bf6c43",
   "metadata": {},
   "outputs": [],
   "source": [
    "# Building Convolution layer\n",
    "from keras.models import Sequential\n",
    "from keras.layers import Input, Conv2D, MaxPool2D,Flatten, Dense, Dropout\n",
    "\n",
    "# Define the input shape\n",
    "input_shape = (64, 64, 3)\n",
    "\n",
    "# Create an Input layer with the desired input shape\n",
    "input_layer = Input(shape=input_shape)\n",
    "\n",
    "# Create a convolutional layer and pass the output of the Input layer to it\n",
    "cnn= Conv2D(64, kernel_size=(3, 3), activation='relu')(input_layer)\n",
    "cnn= MaxPool2D(pool_size=2,strides=2)\n",
    "\n",
    "cnn= Conv2D(64, kernel_size=(3, 3), activation='relu')\n",
    "cnn = MaxPool2D(pool_size=2,strides=2)"
   ]
  },
  {
   "cell_type": "code",
   "execution_count": 30,
   "id": "9010ddeb-0d63-4fee-8009-9574a50b67cd",
   "metadata": {},
   "outputs": [],
   "source": [
    "## it will improve the accuracy of the model\n",
    "cnn=Dropout(0.5)"
   ]
  },
  {
   "cell_type": "code",
   "execution_count": 32,
   "id": "dc22431d-bc37-457f-9d61-2e88df8231b0",
   "metadata": {},
   "outputs": [],
   "source": [
    "cnn=Flatten()"
   ]
  },
  {
   "cell_type": "code",
   "execution_count": 34,
   "id": "a80c3c16-4522-4754-b2cc-0228b025e09b",
   "metadata": {},
   "outputs": [],
   "source": [
    "## It is Hidden Layer\n",
    "cnn=Dense(units=128,activation='relu')"
   ]
  },
  {
   "cell_type": "code",
   "execution_count": 35,
   "id": "aa64ae2f-a45d-41b7-81e9-37801d057dc4",
   "metadata": {},
   "outputs": [],
   "source": [
    "## It is a Output Layer\n",
    "cnn=Dense(units=5,activation='softmax')"
   ]
  },
  {
   "cell_type": "code",
   "execution_count": 40,
   "id": "c497ded5-c66d-482f-9627-b10d47596609",
   "metadata": {},
   "outputs": [],
   "source": [
    "cnn.compile(optimizer='rmsprop',loss='categorical_crossentropy',metrics=['accuracy'])"
   ]
  },
  {
   "cell_type": "code",
   "execution_count": 12,
   "id": "557bb5fe-24e8-4c09-9f7e-9f68695d15d3",
   "metadata": {
    "scrolled": true
   },
   "outputs": [
    {
     "name": "stdout",
     "output_type": "stream",
     "text": [
      "Epoch 1/30\n"
     ]
    },
    {
     "name": "stderr",
     "output_type": "stream",
     "text": [
      "C:\\Users\\Raj Singh\\OneDrive\\Desktop\\pro\\my_venv\\Lib\\site-packages\\keras\\src\\trainers\\data_adapters\\py_dataset_adapter.py:120: UserWarning: Your `PyDataset` class should call `super().__init__(**kwargs)` in its constructor. `**kwargs` can include `workers`, `use_multiprocessing`, `max_queue_size`. Do not pass these arguments to `fit()`, as they will be ignored.\n",
      "  self._warn_if_super_not_called()\n"
     ]
    },
    {
     "name": "stdout",
     "output_type": "stream",
     "text": [
      "\u001b[1m135/135\u001b[0m \u001b[32m━━━━━━━━━━━━━━━━━━━━\u001b[0m\u001b[37m\u001b[0m \u001b[1m114s\u001b[0m 793ms/step - accuracy: 0.3597 - loss: 1.4759 - val_accuracy: 0.5074 - val_loss: 1.2714\n",
      "Epoch 2/30\n",
      "\u001b[1m135/135\u001b[0m \u001b[32m━━━━━━━━━━━━━━━━━━━━\u001b[0m\u001b[37m\u001b[0m \u001b[1m48s\u001b[0m 347ms/step - accuracy: 0.5535 - loss: 1.0844 - val_accuracy: 0.6610 - val_loss: 0.9023\n",
      "Epoch 3/30\n",
      "\u001b[1m135/135\u001b[0m \u001b[32m━━━━━━━━━━━━━━━━━━━━\u001b[0m\u001b[37m\u001b[0m \u001b[1m50s\u001b[0m 355ms/step - accuracy: 0.5953 - loss: 1.0329 - val_accuracy: 0.6748 - val_loss: 0.8627\n",
      "Epoch 4/30\n",
      "\u001b[1m135/135\u001b[0m \u001b[32m━━━━━━━━━━━━━━━━━━━━\u001b[0m\u001b[37m\u001b[0m \u001b[1m50s\u001b[0m 359ms/step - accuracy: 0.6558 - loss: 0.8899 - val_accuracy: 0.6716 - val_loss: 0.8275\n",
      "Epoch 5/30\n",
      "\u001b[1m135/135\u001b[0m \u001b[32m━━━━━━━━━━━━━━━━━━━━\u001b[0m\u001b[37m\u001b[0m \u001b[1m48s\u001b[0m 344ms/step - accuracy: 0.6793 - loss: 0.8536 - val_accuracy: 0.7278 - val_loss: 0.7162\n",
      "Epoch 6/30\n",
      "\u001b[1m135/135\u001b[0m \u001b[32m━━━━━━━━━━━━━━━━━━━━\u001b[0m\u001b[37m\u001b[0m \u001b[1m50s\u001b[0m 357ms/step - accuracy: 0.6795 - loss: 0.8091 - val_accuracy: 0.7002 - val_loss: 0.7752\n",
      "Epoch 7/30\n",
      "\u001b[1m135/135\u001b[0m \u001b[32m━━━━━━━━━━━━━━━━━━━━\u001b[0m\u001b[37m\u001b[0m \u001b[1m50s\u001b[0m 361ms/step - accuracy: 0.7180 - loss: 0.7346 - val_accuracy: 0.7892 - val_loss: 0.5801\n",
      "Epoch 8/30\n",
      "\u001b[1m135/135\u001b[0m \u001b[32m━━━━━━━━━━━━━━━━━━━━\u001b[0m\u001b[37m\u001b[0m \u001b[1m50s\u001b[0m 359ms/step - accuracy: 0.7217 - loss: 0.7079 - val_accuracy: 0.7617 - val_loss: 0.6556\n",
      "Epoch 9/30\n",
      "\u001b[1m135/135\u001b[0m \u001b[32m━━━━━━━━━━━━━━━━━━━━\u001b[0m\u001b[37m\u001b[0m \u001b[1m50s\u001b[0m 360ms/step - accuracy: 0.7273 - loss: 0.7141 - val_accuracy: 0.7892 - val_loss: 0.5330\n",
      "Epoch 10/30\n",
      "\u001b[1m135/135\u001b[0m \u001b[32m━━━━━━━━━━━━━━━━━━━━\u001b[0m\u001b[37m\u001b[0m \u001b[1m50s\u001b[0m 359ms/step - accuracy: 0.7577 - loss: 0.6430 - val_accuracy: 0.7871 - val_loss: 0.5492\n",
      "Epoch 11/30\n",
      "\u001b[1m135/135\u001b[0m \u001b[32m━━━━━━━━━━━━━━━━━━━━\u001b[0m\u001b[37m\u001b[0m \u001b[1m50s\u001b[0m 356ms/step - accuracy: 0.7435 - loss: 0.6537 - val_accuracy: 0.7945 - val_loss: 0.5612\n",
      "Epoch 12/30\n",
      "\u001b[1m135/135\u001b[0m \u001b[32m━━━━━━━━━━━━━━━━━━━━\u001b[0m\u001b[37m\u001b[0m \u001b[1m50s\u001b[0m 359ms/step - accuracy: 0.7738 - loss: 0.6201 - val_accuracy: 0.7828 - val_loss: 0.5504\n",
      "Epoch 13/30\n",
      "\u001b[1m135/135\u001b[0m \u001b[32m━━━━━━━━━━━━━━━━━━━━\u001b[0m\u001b[37m\u001b[0m \u001b[1m49s\u001b[0m 348ms/step - accuracy: 0.7783 - loss: 0.5918 - val_accuracy: 0.7797 - val_loss: 0.6516\n",
      "Epoch 14/30\n",
      "\u001b[1m135/135\u001b[0m \u001b[32m━━━━━━━━━━━━━━━━━━━━\u001b[0m\u001b[37m\u001b[0m \u001b[1m50s\u001b[0m 358ms/step - accuracy: 0.7737 - loss: 0.5732 - val_accuracy: 0.8178 - val_loss: 0.4821\n",
      "Epoch 15/30\n",
      "\u001b[1m135/135\u001b[0m \u001b[32m━━━━━━━━━━━━━━━━━━━━\u001b[0m\u001b[37m\u001b[0m \u001b[1m50s\u001b[0m 362ms/step - accuracy: 0.7861 - loss: 0.5637 - val_accuracy: 0.8623 - val_loss: 0.3903\n",
      "Epoch 16/30\n",
      "\u001b[1m135/135\u001b[0m \u001b[32m━━━━━━━━━━━━━━━━━━━━\u001b[0m\u001b[37m\u001b[0m \u001b[1m49s\u001b[0m 354ms/step - accuracy: 0.8019 - loss: 0.5445 - val_accuracy: 0.8665 - val_loss: 0.3903\n",
      "Epoch 17/30\n",
      "\u001b[1m135/135\u001b[0m \u001b[32m━━━━━━━━━━━━━━━━━━━━\u001b[0m\u001b[37m\u001b[0m \u001b[1m50s\u001b[0m 358ms/step - accuracy: 0.8173 - loss: 0.5084 - val_accuracy: 0.8602 - val_loss: 0.3591\n",
      "Epoch 18/30\n",
      "\u001b[1m135/135\u001b[0m \u001b[32m━━━━━━━━━━━━━━━━━━━━\u001b[0m\u001b[37m\u001b[0m \u001b[1m50s\u001b[0m 361ms/step - accuracy: 0.8138 - loss: 0.5031 - val_accuracy: 0.8528 - val_loss: 0.3976\n",
      "Epoch 19/30\n",
      "\u001b[1m135/135\u001b[0m \u001b[32m━━━━━━━━━━━━━━━━━━━━\u001b[0m\u001b[37m\u001b[0m \u001b[1m50s\u001b[0m 358ms/step - accuracy: 0.8149 - loss: 0.4818 - val_accuracy: 0.8898 - val_loss: 0.3362\n",
      "Epoch 20/30\n",
      "\u001b[1m135/135\u001b[0m \u001b[32m━━━━━━━━━━━━━━━━━━━━\u001b[0m\u001b[37m\u001b[0m \u001b[1m50s\u001b[0m 358ms/step - accuracy: 0.8138 - loss: 0.4855 - val_accuracy: 0.9131 - val_loss: 0.2726\n",
      "Epoch 21/30\n",
      "\u001b[1m135/135\u001b[0m \u001b[32m━━━━━━━━━━━━━━━━━━━━\u001b[0m\u001b[37m\u001b[0m \u001b[1m50s\u001b[0m 360ms/step - accuracy: 0.8285 - loss: 0.4560 - val_accuracy: 0.8898 - val_loss: 0.3158\n",
      "Epoch 22/30\n",
      "\u001b[1m135/135\u001b[0m \u001b[32m━━━━━━━━━━━━━━━━━━━━\u001b[0m\u001b[37m\u001b[0m \u001b[1m46s\u001b[0m 328ms/step - accuracy: 0.8533 - loss: 0.4197 - val_accuracy: 0.8856 - val_loss: 0.3484\n",
      "Epoch 23/30\n",
      "\u001b[1m135/135\u001b[0m \u001b[32m━━━━━━━━━━━━━━━━━━━━\u001b[0m\u001b[37m\u001b[0m \u001b[1m50s\u001b[0m 360ms/step - accuracy: 0.8480 - loss: 0.4098 - val_accuracy: 0.8877 - val_loss: 0.3098\n",
      "Epoch 24/30\n",
      "\u001b[1m135/135\u001b[0m \u001b[32m━━━━━━━━━━━━━━━━━━━━\u001b[0m\u001b[37m\u001b[0m \u001b[1m50s\u001b[0m 360ms/step - accuracy: 0.8428 - loss: 0.4193 - val_accuracy: 0.9269 - val_loss: 0.2205\n",
      "Epoch 25/30\n",
      "\u001b[1m135/135\u001b[0m \u001b[32m━━━━━━━━━━━━━━━━━━━━\u001b[0m\u001b[37m\u001b[0m \u001b[1m49s\u001b[0m 353ms/step - accuracy: 0.8489 - loss: 0.4063 - val_accuracy: 0.9153 - val_loss: 0.2405\n",
      "Epoch 26/30\n",
      "\u001b[1m135/135\u001b[0m \u001b[32m━━━━━━━━━━━━━━━━━━━━\u001b[0m\u001b[37m\u001b[0m \u001b[1m50s\u001b[0m 362ms/step - accuracy: 0.8644 - loss: 0.3966 - val_accuracy: 0.8983 - val_loss: 0.2623\n",
      "Epoch 27/30\n",
      "\u001b[1m135/135\u001b[0m \u001b[32m━━━━━━━━━━━━━━━━━━━━\u001b[0m\u001b[37m\u001b[0m \u001b[1m50s\u001b[0m 360ms/step - accuracy: 0.8615 - loss: 0.3670 - val_accuracy: 0.9396 - val_loss: 0.1993\n",
      "Epoch 28/30\n",
      "\u001b[1m135/135\u001b[0m \u001b[32m━━━━━━━━━━━━━━━━━━━━\u001b[0m\u001b[37m\u001b[0m \u001b[1m48s\u001b[0m 346ms/step - accuracy: 0.8639 - loss: 0.3628 - val_accuracy: 0.9174 - val_loss: 0.2361\n",
      "Epoch 29/30\n",
      "\u001b[1m135/135\u001b[0m \u001b[32m━━━━━━━━━━━━━━━━━━━━\u001b[0m\u001b[37m\u001b[0m \u001b[1m51s\u001b[0m 365ms/step - accuracy: 0.8676 - loss: 0.3641 - val_accuracy: 0.8972 - val_loss: 0.2827\n",
      "Epoch 30/30\n",
      "\u001b[1m135/135\u001b[0m \u001b[32m━━━━━━━━━━━━━━━━━━━━\u001b[0m\u001b[37m\u001b[0m \u001b[1m50s\u001b[0m 362ms/step - accuracy: 0.8777 - loss: 0.3328 - val_accuracy: 0.8951 - val_loss: 0.3067\n"
     ]
    },
    {
     "data": {
      "text/plain": [
       "<keras.src.callbacks.history.History at 0x22778e61890>"
      ]
     },
     "execution_count": 12,
     "metadata": {},
     "output_type": "execute_result"
    }
   ],
   "source": [
    "cnn.fit(x=training_set, validation_data=test_set, epochs=30)\n"
   ]
  },
  {
   "cell_type": "markdown",
   "id": "e70eabc0-8e84-4231-8389-93c55d2e25e5",
   "metadata": {},
   "source": [
    "#### Test New Image"
   ]
  },
  {
   "cell_type": "code",
   "execution_count": 18,
   "id": "2ff272a5-373f-43f0-b37f-26e7bb497ddf",
   "metadata": {},
   "outputs": [
    {
     "name": "stdout",
     "output_type": "stream",
     "text": [
      "\u001b[1m1/1\u001b[0m \u001b[32m━━━━━━━━━━━━━━━━━━━━\u001b[0m\u001b[37m\u001b[0m \u001b[1m0s\u001b[0m 60ms/step\n"
     ]
    }
   ],
   "source": [
    "from keras.preprocessing import image\n",
    "test_image=image.load_img('prediction/r.jpg',target_size=(64,64))\n",
    "test_image=image.img_to_array(test_image)\n",
    "test_image=np.expand_dims(test_image,axis=0)\n",
    "result=cnn.predict(test_image)"
   ]
  },
  {
   "cell_type": "code",
   "execution_count": 41,
   "id": "1ab950f1-7c5a-4b26-b2c3-96e7d02eab5a",
   "metadata": {},
   "outputs": [
    {
     "data": {
      "text/plain": [
       "{'daisy': 0, 'dandelion': 1, 'rose': 2, 'sunflower': 3, 'tulip': 4}"
      ]
     },
     "execution_count": 41,
     "metadata": {},
     "output_type": "execute_result"
    }
   ],
   "source": [
    "training_set.class_indices"
   ]
  },
  {
   "cell_type": "code",
   "execution_count": 19,
   "id": "5906eb66-b492-4cec-920b-dc36c25704cc",
   "metadata": {},
   "outputs": [
    {
     "name": "stdout",
     "output_type": "stream",
     "text": [
      "[[0. 0. 1. 0. 0.]]\n"
     ]
    }
   ],
   "source": [
    "print(result)"
   ]
  },
  {
   "cell_type": "code",
   "execution_count": 42,
   "id": "9da063b2-1016-4f17-9bb0-6cb60638cc86",
   "metadata": {},
   "outputs": [
    {
     "name": "stdout",
     "output_type": "stream",
     "text": [
      "Rose\n"
     ]
    }
   ],
   "source": [
    "if result[0][0]==1:\n",
    "    print('Daisy')\n",
    "elif result[0][1]==1:\n",
    "    print('Dandelion')\n",
    "elif result[0][2]==1:\n",
    "    print('Rose')\n",
    "elif result[0][3]==1:\n",
    "    print('Sunflower')\n",
    "elif result[0][4]==1:\n",
    "    print('Tulip')"
   ]
  },
  {
   "cell_type": "code",
   "execution_count": null,
   "id": "cb1b728a-61e1-4c6c-be6e-8921d0a8dc47",
   "metadata": {},
   "outputs": [],
   "source": []
  },
  {
   "cell_type": "code",
   "execution_count": null,
   "id": "c1d49a3f-06f1-48ef-ad47-21b031d5fdba",
   "metadata": {},
   "outputs": [],
   "source": []
  }
 ],
 "metadata": {
  "kernelspec": {
   "display_name": "ML-KERNEL",
   "language": "python",
   "name": "ml-kernel"
  },
  "language_info": {
   "codemirror_mode": {
    "name": "ipython",
    "version": 3
   },
   "file_extension": ".py",
   "mimetype": "text/x-python",
   "name": "python",
   "nbconvert_exporter": "python",
   "pygments_lexer": "ipython3",
   "version": "3.11.7"
  }
 },
 "nbformat": 4,
 "nbformat_minor": 5
}
